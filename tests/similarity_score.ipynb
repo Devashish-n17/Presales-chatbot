{
 "cells": [
  {
   "cell_type": "code",
   "execution_count": 9,
   "metadata": {},
   "outputs": [],
   "source": [
    "import os\n",
    "from uuid import uuid4\n",
    "from langchain_core.documents import Document\n",
    "from langchain_chroma import Chroma\n",
    "from langchain_google_genai import GoogleGenerativeAIEmbeddings\n",
    "from langchain.text_splitter import RecursiveCharacterTextSplitter\n",
    "from dotenv import load_dotenv\n",
    "load_dotenv()\n",
    "GEMINI_API_KEY = os.getenv('GEMINI_API_KEY')\n",
    "embeddings = GoogleGenerativeAIEmbeddings(model='models/embedding-001', google_api_key=GEMINI_API_KEY)\n",
    "text_splitter = RecursiveCharacterTextSplitter(chunk_size=100, chunk_overlap=5)"
   ]
  },
  {
   "cell_type": "code",
   "execution_count": 10,
   "metadata": {},
   "outputs": [],
   "source": [
    "file_content_1 = '''\n",
    "    In 2013, the American Medical Association (AMA) designated obesity as a chronic disease.1 In 2014, the American College of Cardiology (ACC), the American Heart Association (AHA), and The Obesity Society (TOS) published clinical practice guidelines for the management of overweight and obesity in adults.2\n",
    "    In 2016, the American Association of Clinical Endocrinologists (AACE) and American College of Endocrinology (ACE) published evidence-based clinical practice guidelines that built upon the AMA's designation, the AACE's novel diagnostic paradigm that incorporated both body mass index (BMI) and weight-related complications, and the AACE's framework that suggested that weight-related complications rather \n",
    "    than a universal weight-loss target determine treatment modality selection.3 These 2 comprehensive documents remain the most accepted guidelines for the treatment of obesity\n",
    "'''\n",
    "file_path_1 = 'https://www.fatpeople_1.com'\n",
    "\n",
    "file_content_2 = '''\n",
    "    Machine learning is programming computers to optimize a performance criterion using example data or past experience. There is no need to “learn” to calculate payroll Learning is used when: Human expertise does not exist (navigating on Mars), Humans are unable to explain their expertise (speech recognition)\n",
    "    Solution changes in time (routing on a computer network) Solution needs to be adapted to particular cases (user biometrics)\n",
    "'''\n",
    "file_path_2 = 'https://www.dev_2.com'\n",
    "\n",
    "file_content_3 = '''\n",
    "    Both guidelines recommend that all adults be screened annually using a body mass index (BMI) measurement (body weight [kg]/height [m2]) to initiate evaluation for overweight and obesity.2,3 The guidelines recommend that although a BMI of at least 25 kg/m2 in any patient prompts further evaluation, a BMI of at least 23 kg/m2\n",
    "    may herald the need for such evaluation in patients of South Asian, Southeast Asian, and East Asian genetic heredity, as health risks associated with overweight and obesity typically are observed at lower BMIs in these populations.2\n",
    "'''\n",
    "file_path_3 = 'https://www.fatpeople.com'"
   ]
  },
  {
   "cell_type": "code",
   "execution_count": 11,
   "metadata": {},
   "outputs": [],
   "source": [
    "def parse_docs(file_content, file_path):\n",
    "    chunks = text_splitter.split_text(file_content)\n",
    "    docs = [Document(page_content=chunk, metadata={\"file_path\": file_path}) for chunk in chunks]\n",
    "    print(docs)\n",
    "    \n",
    "    uuids = [str(uuid4()) for _ in range(len(docs))]\n",
    "    persist_directory, collection_name=\"./chroma_2\", \"example\"\n",
    "\n",
    "    if os.path.exists(persist_directory):\n",
    "        vector_store = Chroma(collection_name=collection_name, embedding_function=embeddings, persist_directory=persist_directory)\n",
    "        vector_store.add_documents(documents=docs, ids=uuids)\n",
    "        return vector_store\n",
    "    else:\n",
    "        vector_store = Chroma.from_documents(documents=docs, embedding=embeddings, persist_directory=persist_directory, collection_name=collection_name)\n",
    "        return vector_store\n"
   ]
  },
  {
   "cell_type": "code",
   "execution_count": 14,
   "metadata": {},
   "outputs": [
    {
     "name": "stdout",
     "output_type": "stream",
     "text": [
      "[Document(metadata={'file_path': 'https://www.fatpeople_1.com'}, page_content='In 2013, the American Medical Association (AMA) designated obesity as a chronic disease.1 In'), Document(metadata={'file_path': 'https://www.fatpeople_1.com'}, page_content='In 2014, the American College of Cardiology (ACC), the American Heart Association (AHA), and The'), Document(metadata={'file_path': 'https://www.fatpeople_1.com'}, page_content='The Obesity Society (TOS) published clinical practice guidelines for the management of overweight'), Document(metadata={'file_path': 'https://www.fatpeople_1.com'}, page_content='and obesity in adults.2'), Document(metadata={'file_path': 'https://www.fatpeople_1.com'}, page_content='In 2016, the American Association of Clinical Endocrinologists (AACE) and American College of'), Document(metadata={'file_path': 'https://www.fatpeople_1.com'}, page_content='of Endocrinology (ACE) published evidence-based clinical practice guidelines that built upon the'), Document(metadata={'file_path': 'https://www.fatpeople_1.com'}, page_content=\"the AMA's designation, the AACE's novel diagnostic paradigm that incorporated both body mass index\"), Document(metadata={'file_path': 'https://www.fatpeople_1.com'}, page_content=\"(BMI) and weight-related complications, and the AACE's framework that suggested that weight-related\"), Document(metadata={'file_path': 'https://www.fatpeople_1.com'}, page_content='complications rather'), Document(metadata={'file_path': 'https://www.fatpeople_1.com'}, page_content='than a universal weight-loss target determine treatment modality selection.3 These 2'), Document(metadata={'file_path': 'https://www.fatpeople_1.com'}, page_content='2 comprehensive documents remain the most accepted guidelines for the treatment of obesity')]\n",
      "{'file_path': 'https://www.fatpeople_1.com'} Score : 0.567855\n",
      "{'file_path': 'https://www.fatpeople_1.com'} Score : 0.567855\n",
      "{'file_path': 'https://www.fatpeople_1.com'} Score : 0.570966\n",
      "{'file_path': 'https://www.fatpeople_1.com'} Score : 0.570966\n",
      "--------------------------------------------------------\n",
      "{'file_path': 'https://www.fatpeople_1.com'} Score : 0.942974\n",
      "{'file_path': 'https://www.fatpeople_1.com'} Score : 0.942974\n",
      "{'file_path': 'https://www.fatpeople_1.com'} Score : 0.959610\n",
      "{'file_path': 'https://www.fatpeople_1.com'} Score : 0.959610\n"
     ]
    }
   ],
   "source": [
    "vector_store = parse_docs(file_content_1, file_path_1)\n",
    "\n",
    "results = vector_store.similarity_search_with_score(\"Treatment of overweight\")\n",
    "for res, score in results:\n",
    "    print(res.metadata, f'Score : {score:3f}')\n",
    "\n",
    "print('--------------------------------------------------------')\n",
    "\n",
    "results = vector_store.similarity_search_with_score(\"speech recognition\")\n",
    "for res, score in results:\n",
    "    print(res.metadata, f'Score : {score:3f}')"
   ]
  },
  {
   "cell_type": "code",
   "execution_count": 15,
   "metadata": {},
   "outputs": [
    {
     "name": "stdout",
     "output_type": "stream",
     "text": [
      "[Document(metadata={'file_path': 'https://www.dev_2.com'}, page_content='Machine learning is programming computers to optimize a performance criterion using example'), Document(metadata={'file_path': 'https://www.dev_2.com'}, page_content='data or past experience. There is no need to “learn” to calculate payroll Learning is used when:'), Document(metadata={'file_path': 'https://www.dev_2.com'}, page_content='Human expertise does not exist (navigating on Mars), Humans are unable to explain their expertise'), Document(metadata={'file_path': 'https://www.dev_2.com'}, page_content='(speech recognition)'), Document(metadata={'file_path': 'https://www.dev_2.com'}, page_content='Solution changes in time (routing on a computer network) Solution needs to be adapted to'), Document(metadata={'file_path': 'https://www.dev_2.com'}, page_content='to particular cases (user biometrics)')]\n",
      "{'file_path': 'https://www.fatpeople_1.com'} Score : 0.567855\n",
      "{'file_path': 'https://www.fatpeople_1.com'} Score : 0.567855\n",
      "{'file_path': 'https://www.fatpeople_1.com'} Score : 0.570966\n",
      "{'file_path': 'https://www.fatpeople_1.com'} Score : 0.570966\n",
      "--------------------------------------------------------\n",
      "{'file_path': 'https://www.dev_2.com'} Score : 0.625140\n",
      "{'file_path': 'https://www.dev_2.com'} Score : 0.776314\n",
      "{'file_path': 'https://www.dev_2.com'} Score : 0.853238\n",
      "{'file_path': 'https://www.dev_2.com'} Score : 0.862243\n"
     ]
    }
   ],
   "source": [
    "vector_store = parse_docs(file_content_2, file_path_2)\n",
    "\n",
    "results = vector_store.similarity_search_with_score(\"Treatment of overweight\")\n",
    "for res, score in results:\n",
    "    print(res.metadata, f'Score : {score:3f}')\n",
    "\n",
    "print('--------------------------------------------------------')\n",
    "\n",
    "results = vector_store.similarity_search_with_score(\"speech recognition\")\n",
    "for res, score in results:\n",
    "    print(res.metadata, f'Score : {score:3f}')"
   ]
  },
  {
   "cell_type": "code",
   "execution_count": 16,
   "metadata": {},
   "outputs": [
    {
     "name": "stdout",
     "output_type": "stream",
     "text": [
      "[Document(metadata={'file_path': 'https://www.fatpeople.com'}, page_content='Both guidelines recommend that all adults be screened annually using a body mass index (BMI)'), Document(metadata={'file_path': 'https://www.fatpeople.com'}, page_content='measurement (body weight [kg]/height [m2]) to initiate evaluation for overweight and obesity.2,3'), Document(metadata={'file_path': 'https://www.fatpeople.com'}, page_content='The guidelines recommend that although a BMI of at least 25 kg/m2 in any patient prompts further'), Document(metadata={'file_path': 'https://www.fatpeople.com'}, page_content='evaluation, a BMI of at least 23 kg/m2'), Document(metadata={'file_path': 'https://www.fatpeople.com'}, page_content='may herald the need for such evaluation in patients of South Asian, Southeast Asian, and East'), Document(metadata={'file_path': 'https://www.fatpeople.com'}, page_content='East Asian genetic heredity, as health risks associated with overweight and obesity typically are'), Document(metadata={'file_path': 'https://www.fatpeople.com'}, page_content='are observed at lower BMIs in these populations.2')]\n",
      "{'file_path': 'https://www.fatpeople_1.com'} Score : 0.567855\n",
      "{'file_path': 'https://www.fatpeople_1.com'} Score : 0.567855\n",
      "{'file_path': 'https://www.fatpeople_1.com'} Score : 0.570966\n",
      "{'file_path': 'https://www.fatpeople_1.com'} Score : 0.570966\n",
      "--------------------------------------------------------\n",
      "{'file_path': 'https://www.dev_2.com'} Score : 0.625140\n",
      "{'file_path': 'https://www.dev_2.com'} Score : 0.776314\n",
      "{'file_path': 'https://www.dev_2.com'} Score : 0.853238\n",
      "{'file_path': 'https://www.dev_2.com'} Score : 0.862243\n"
     ]
    }
   ],
   "source": [
    "vector_store = parse_docs(file_content_3, file_path_3)\n",
    "\n",
    "results = vector_store.similarity_search_with_score(\"Treatment of overweight\")\n",
    "for res, score in results:\n",
    "    print(res.metadata, f'Score : {score:3f}')\n",
    "\n",
    "print('--------------------------------------------------------')\n",
    "\n",
    "results = vector_store.similarity_search_with_score(\"speech recognition\")\n",
    "for res, score in results:\n",
    "    print(res.metadata, f'Score : {score:3f}')"
   ]
  },
  {
   "cell_type": "code",
   "execution_count": 17,
   "metadata": {},
   "outputs": [
    {
     "name": "stdout",
     "output_type": "stream",
     "text": [
      "{'file_path': 'https://www.fatpeople_1.com'} Score : 0.576373\n",
      "{'file_path': 'https://www.fatpeople_1.com'} Score : 0.576373\n",
      "{'file_path': 'https://www.fatpeople_1.com'} Score : 0.591801\n",
      "{'file_path': 'https://www.fatpeople_1.com'} Score : 0.591801\n"
     ]
    }
   ],
   "source": [
    "results = vector_store.similarity_search_with_score(\"Treatment of obesity\")\n",
    "for res, score in results:\n",
    "    print(res.metadata, f'Score : {score:3f}')"
   ]
  },
  {
   "cell_type": "code",
   "execution_count": 18,
   "metadata": {},
   "outputs": [
    {
     "name": "stdout",
     "output_type": "stream",
     "text": [
      "{'file_path': 'https://www.dev_2.com'} Score : 0.629147\n",
      "{'file_path': 'https://www.dev_2.com'} Score : 0.669617\n",
      "{'file_path': 'https://www.dev_2.com'} Score : 0.829628\n",
      "{'file_path': 'https://www.dev_2.com'} Score : 0.833178\n"
     ]
    }
   ],
   "source": [
    "results = vector_store.similarity_search_with_score(\"What is the machine learns\")\n",
    "for res, score in results:\n",
    "    print(res.metadata, f'Score : {score:3f}')"
   ]
  },
  {
   "cell_type": "code",
   "execution_count": 19,
   "metadata": {},
   "outputs": [
    {
     "name": "stdout",
     "output_type": "stream",
     "text": [
      "{'file_path': 'https://www.fatpeople_1.com'} Score : 0.590803\n",
      "{'file_path': 'https://www.fatpeople_1.com'} Score : 0.590803\n",
      "{'file_path': 'https://www.fatpeople_1.com'} Score : 0.606251\n",
      "{'file_path': 'https://www.fatpeople_1.com'} Score : 0.606251\n"
     ]
    }
   ],
   "source": [
    "results = vector_store.similarity_search_with_score(\"obesity\")\n",
    "for res, score in results:\n",
    "    print(res.metadata, f'Score : {score:3f}')"
   ]
  },
  {
   "cell_type": "code",
   "execution_count": null,
   "metadata": {},
   "outputs": [],
   "source": []
  }
 ],
 "metadata": {
  "kernelspec": {
   "display_name": "presales-pipeline",
   "language": "python",
   "name": "python3"
  },
  "language_info": {
   "codemirror_mode": {
    "name": "ipython",
    "version": 3
   },
   "file_extension": ".py",
   "mimetype": "text/x-python",
   "name": "python",
   "nbconvert_exporter": "python",
   "pygments_lexer": "ipython3",
   "version": "3.11.11"
  }
 },
 "nbformat": 4,
 "nbformat_minor": 2
}
