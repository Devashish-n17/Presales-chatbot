{
 "cells": [
  {
   "cell_type": "code",
   "execution_count": 1,
   "metadata": {},
   "outputs": [
    {
     "name": "stderr",
     "output_type": "stream",
     "text": [
      "[nltk_data] Downloading package punkt_tab to c:\\Users\\Devashish.Revadk\n",
      "[nltk_data]     ar\\AppData\\Local\\miniconda3\\envs\\presales-\n",
      "[nltk_data]     pipeline\\Lib\\site-\n",
      "[nltk_data]     packages\\llama_index\\core\\_static/nltk_cache...\n",
      "[nltk_data]   Package punkt_tab is already up-to-date!\n",
      "c:\\Users\\Devashish.Revadkar\\AppData\\Local\\miniconda3\\envs\\presales-pipeline\\Lib\\site-packages\\tqdm\\auto.py:21: TqdmWarning: IProgress not found. Please update jupyter and ipywidgets. See https://ipywidgets.readthedocs.io/en/stable/user_install.html\n",
      "  from .autonotebook import tqdm as notebook_tqdm\n"
     ]
    }
   ],
   "source": [
    "import os, json\n",
    "import urllib.parse\n",
    "from io import BytesIO\n",
    "from uuid import uuid4\n",
    "from llama_parse import LlamaParse\n",
    "from langchain_chroma import Chroma\n",
    "from office365.sharepoint.client_context import ClientContext, UserCredential\n",
    "from langchain.text_splitter import RecursiveCharacterTextSplitter\n",
    "from langchain_google_genai import GoogleGenerativeAIEmbeddings\n",
    "from office365.sharepoint.files.file import File\n",
    "from langchain_core.documents import Document\n",
    "from tempfile import NamedTemporaryFile\n",
    "from datetime import datetime, timedelta\n",
    "\n",
    "from dotenv import load_dotenv\n",
    "load_dotenv()\n",
    "USERNAME = os.getenv('sharepoint_email')\n",
    "PASSWORD = os.getenv('sharepoint_password')\n",
    "SHAREPOINT_URL_SITE = os.getenv('sharepoint_url_site')\n",
    "SHAREPOINT_SITE_NAME = os.getenv('sharepoint_site_name')\n",
    "SHAREPOINT_DOC_LIB = os.getenv('sharepoint_doc_library')\n",
    "LLAMA_API_KEY = os.getenv('LLAMA_CLOUD_API_KEY')\n",
    "GEMINI_API_KEY = os.getenv('GEMINI_API_KEY')\n",
    "\n",
    "embeddings = GoogleGenerativeAIEmbeddings(model='models/embedding-001', google_api_key=GEMINI_API_KEY)\n",
    "text_splitter = RecursiveCharacterTextSplitter(chunk_size=1000, chunk_overlap=100)\n",
    "properties_file = 'Metadata.json'\n",
    "\n",
    "conn = ClientContext(SHAREPOINT_URL_SITE).with_credentials(UserCredential(USERNAME, PASSWORD))"
   ]
  },
  {
   "cell_type": "code",
   "execution_count": 2,
   "metadata": {},
   "outputs": [],
   "source": [
    "def _get_files_and_folders(FOLDER_NAME=''):\n",
    "    target_folder_url = f'{SHAREPOINT_DOC_LIB}/{FOLDER_NAME}' if FOLDER_NAME else SHAREPOINT_DOC_LIB\n",
    "    root_folder = conn.web.get_folder_by_server_relative_url(target_folder_url)\n",
    "    root_folder.expand([\"Files\", \"Folders\"]).get().execute_query()\n",
    "    return root_folder.files, root_folder.folders\n"
   ]
  },
  {
   "cell_type": "code",
   "execution_count": 3,
   "metadata": {},
   "outputs": [],
   "source": [
    "def get_file_properties(last_download, folder_name=''):\n",
    "    all_files_properties = []\n",
    "    file_id_list = []\n",
    "    \n",
    "    new_files = []\n",
    "    def process_folder(CURRENT_FOLDER_NAME):\n",
    "        files, folders = _get_files_and_folders(CURRENT_FOLDER_NAME)\n",
    "        ENCODED_DOC_LIB = urllib.parse.quote(SHAREPOINT_DOC_LIB, safe=\":/\")\n",
    "        for file in files:\n",
    "            file_last_modified = file.time_last_modified\n",
    "            if last_download is None or file_last_modified > last_download:\n",
    "                new_files.append(file_last_modified)\n",
    "                ENCODED_FILE_NAME = urllib.parse.quote(file.name, safe=\":/\")\n",
    "                resource_url = f'{SHAREPOINT_URL_SITE}/{ENCODED_DOC_LIB}/{f\"{CURRENT_FOLDER_NAME}/\" if CURRENT_FOLDER_NAME else \"\"}{ENCODED_FILE_NAME}'\n",
    "                file_dict = {\n",
    "                    'file_name': file.name,\n",
    "                    'file_unique_id': file.unique_id,\n",
    "                    'resource_url': resource_url,\n",
    "                    'file_size': file.length,\n",
    "                }\n",
    "                all_files_properties.append(file_dict)\n",
    "                file_id_list.append(file.unique_id)\n",
    "                print(file.name)\n",
    "\n",
    "        for folder in folders:\n",
    "            if folder.name.lower() != \"forms\":\n",
    "                new_folder_name = f'{CURRENT_FOLDER_NAME}/{folder.name}' if CURRENT_FOLDER_NAME else folder.name\n",
    "                process_folder(new_folder_name)\n",
    "    process_folder(folder_name)\n",
    "    return new_files\n",
    "    "
   ]
  },
  {
   "cell_type": "code",
   "execution_count": 7,
   "metadata": {},
   "outputs": [],
   "source": [
    "timestamp_file = 'last_download_time.json'\n",
    "def get_last_download_timestamp():\n",
    "    if os.path.exists(timestamp_file):\n",
    "        with open(timestamp_file, 'r') as file:\n",
    "            data = json.load(file)\n",
    "            return datetime.fromisoformat(data['last_download'])\n",
    "    return None\n",
    "\n",
    "def save_last_download_timestamp(timestamp):\n",
    "    ist_timestamp = timestamp + timedelta(hours=5, minutes=30)\n",
    "    with open(timestamp_file, 'w') as file:\n",
    "        json.dump({'last_download': ist_timestamp.isoformat()}, file)"
   ]
  },
  {
   "cell_type": "code",
   "execution_count": 8,
   "metadata": {},
   "outputs": [
    {
     "name": "stdout",
     "output_type": "stream",
     "text": [
      "Machine_Learning.pptx\n",
      "cricket - Copy.pdf\n",
      "obesity.pdf\n",
      "sample.pptx\n",
      "CriticalSoftSkills.pdf\n",
      "Best Practices- GenAI.pdf\n"
     ]
    }
   ],
   "source": [
    "last_download_timestamp = get_last_download_timestamp()\n",
    "new_files = get_file_properties(last_download_timestamp)\n",
    "\n",
    "if new_files:\n",
    "    latest_timestamp = max(new_files)\n",
    "    save_last_download_timestamp(latest_timestamp)"
   ]
  },
  {
   "cell_type": "code",
   "execution_count": null,
   "metadata": {},
   "outputs": [],
   "source": []
  }
 ],
 "metadata": {
  "kernelspec": {
   "display_name": "presales-pipeline",
   "language": "python",
   "name": "python3"
  },
  "language_info": {
   "codemirror_mode": {
    "name": "ipython",
    "version": 3
   },
   "file_extension": ".py",
   "mimetype": "text/x-python",
   "name": "python",
   "nbconvert_exporter": "python",
   "pygments_lexer": "ipython3",
   "version": "3.11.11"
  }
 },
 "nbformat": 4,
 "nbformat_minor": 2
}
